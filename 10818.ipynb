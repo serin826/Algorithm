{
 "cells": [
  {
   "cell_type": "code",
   "execution_count": null,
   "metadata": {},
   "outputs": [],
   "source": [
    "n = int(input())\n",
    "i=[n]\n",
    "i*n = map(int, input().split())\n",
    "\n",
    "while True:\n",
    "    max_num = i[0]\n",
    "    if i[1] > max_num:\n",
    "        max_num = i[1]\n",
    "    elif i[2] > max_num:\n",
    "        max_num = i[2]\n",
    "    elif i[3] > max_num:\n",
    "        max_num = i[3]\n",
    "    elif i[4] > max_num:\n",
    "        max_num = i[4]\n",
    "        break\n",
    "\n",
    "while True:\n",
    "    min_num = i[0]\n",
    "    if i[1] > min_num:\n",
    "        min_num = i[1]\n",
    "    elif i[2] > min_num:\n",
    "        min_num = i[2]\n",
    "    elif i[3] > min_num:\n",
    "        min_num = i[3]\n",
    "    elif i[4] > min_num:\n",
    "        min_num = i[4]\n",
    "        break\n",
    "\n",
    "print(min_num, max_num)"
   ]
  },
  {
   "cell_type": "code",
   "execution_count": 1,
   "metadata": {},
   "outputs": [],
   "source": [
    "# 정답 (n활용)\n",
    "n = int(input())\n",
    "nums = list(map(int, input().split()))\n",
    "\n",
    "min_num = nums[0]\n",
    "max_num = nums[0]\n",
    "\n",
    "for i in range(n):\n",
    "    if nums[i] < min_num:\n",
    "        min_num = nums[i]\n",
    "    if nums[i] > max_num:\n",
    "        max_num = nums[i]\n",
    "\n",
    "print(min_num, max_num)"
   ]
  },
  {
   "cell_type": "code",
   "execution_count": null,
   "metadata": {},
   "outputs": [],
   "source": [
    "n = int(input())\n",
    "nums = list(map(int, input().split()))\n",
    "max_num = num[0]\n",
    "min_num = num[0]\n",
    "for i in nums:\n",
    "    if i > max_num:\n",
    "        max_num = i\n",
    "    elif i < min_num:\n",
    "        min_num = i\n",
    "print(min_num, max_num)"
   ]
  },
  {
   "cell_type": "code",
   "execution_count": null,
   "metadata": {},
   "outputs": [],
   "source": [
    "N = int(input())\n",
    "lst = list(map(int, input().split()))\n",
    "print(min(lst), max(lst))"
   ]
  }
 ],
 "metadata": {
  "kernelspec": {
   "display_name": "Python 3",
   "language": "python",
   "name": "python3"
  },
  "language_info": {
   "codemirror_mode": {
    "name": "ipython",
    "version": 3
   },
   "file_extension": ".py",
   "mimetype": "text/x-python",
   "name": "python",
   "nbconvert_exporter": "python",
   "pygments_lexer": "ipython3",
   "version": "3.13.1"
  }
 },
 "nbformat": 4,
 "nbformat_minor": 2
}
